{
 "cells": [
  {
   "cell_type": "markdown",
   "metadata": {},
   "source": [
    "# DSC540 Project 3"
   ]
  },
  {
   "cell_type": "markdown",
   "metadata": {},
   "source": [
    "DePaul University  \n",
    "Ilyas Ustun, PhD  \n",
    "Chicago, IL  "
   ]
  },
  {
   "cell_type": "markdown",
   "metadata": {},
   "source": [
    "## Rules\n",
    "- Write your code under the corresponding questions. You are encouraged to use more than one cell.\n",
    "- Provide explanation in a separate Markdown formatted cell. \n",
    "- You can change the cell type by:\n",
    "    - Click on the outer area of the cell type you want to change,\n",
    "    - Go to the top, and select either Code or Markdown from the dropdown menu.\n",
    "- Be concise in your explanations and conclusions.\n",
    "- Write clear code and provide explanation to functions you create by using `#` comment sign.\n",
    "- Try to answer the questions by yourself. Use documentation from pandas, sklearn and similar libraries to solve the problem.\n",
    "- If you are stuck you can use different resources. Do not find an identical project and copy paste the solutions. \n",
    "- Write your name at the beginning of the jupyter notebook.\n",
    "\n",
    "\n",
    "Important:  \n",
    "- **Do NOT share the solutions with other people.**\n",
    "- **Do NOT share the solutions on the internet including but not limited to Github and other platforms.**\n",
    "- Sign the Honor Pledge below indicating that you have agreed to these rules listed here, and any other ethical and honor rules as required by the university.\n",
    "\n",
    "\n",
    "\n",
    "- **Deliverables:**\n",
    "    1. The Python Jupyter notebook file named properly with your name. Example: dsc540_project1_john_doe.ipynb\n",
    "    2. The HTML output of this code notebook names the same way. Example: dsc540_project1_john_doe.html\n",
    "        - File -> Download as -> HTML  \n",
    "        \n",
    "        \n",
    "**DO NOT zip the files.**\n",
    "\n",
    "Good Luck!"
   ]
  },
  {
   "cell_type": "markdown",
   "metadata": {},
   "source": [
    "### Saransh Thakur"
   ]
  },
  {
   "cell_type": "markdown",
   "metadata": {},
   "source": [
    "**Honor Pledge:**  \n",
    "I pledge on my honor that I, **Saransh Thakur**, have followed the rules listed above, that I have not given or received any unauthorized assistance on this assignment. \n"
   ]
  },
  {
   "cell_type": "markdown",
   "metadata": {},
   "source": [
    "\n",
    "## Project Description\n",
    "\n",
    "In this project we will be analyzing CO and NOX gas emissions from a power plant. The variables, their meanings and some statistics are given in the table below."
   ]
  },
  {
   "cell_type": "markdown",
   "metadata": {},
   "source": [
    "![PowerPlantEmissionsFeaturesTable](PowerPlantEmissionsFeaturesTable.PNG)"
   ]
  },
  {
   "cell_type": "markdown",
   "metadata": {},
   "source": [
    "## Import Libraries\n",
    "\n",
    "**Import the usual libraries for pandas and plotting, and sklearn.**"
   ]
  },
  {
   "cell_type": "code",
   "execution_count": 312,
   "metadata": {},
   "outputs": [],
   "source": [
    "import pandas as pd\n",
    "import numpy as np\n",
    "import matplotlib.pyplot as plt\n",
    "import seaborn as sns\n",
    "\n",
    "from sklearn import metrics"
   ]
  },
  {
   "cell_type": "code",
   "execution_count": 313,
   "metadata": {},
   "outputs": [
    {
     "data": {
      "text/plain": [
       "'1.0.2'"
      ]
     },
     "execution_count": 313,
     "metadata": {},
     "output_type": "execute_result"
    }
   ],
   "source": [
    "import sklearn\n",
    "sklearn.__version__"
   ]
  },
  {
   "cell_type": "code",
   "execution_count": 314,
   "metadata": {},
   "outputs": [],
   "source": [
    "pd.set_option('display.max_columns', 100)\n",
    "RANDOM_STATE = 0"
   ]
  },
  {
   "cell_type": "markdown",
   "metadata": {},
   "source": [
    "### These are the packages I used"
   ]
  },
  {
   "cell_type": "code",
   "execution_count": 315,
   "metadata": {},
   "outputs": [],
   "source": [
    "# Your package imports here"
   ]
  },
  {
   "cell_type": "code",
   "execution_count": 316,
   "metadata": {},
   "outputs": [],
   "source": [
    "from sklearn.metrics import r2_score, mean_squared_error"
   ]
  },
  {
   "cell_type": "markdown",
   "metadata": {},
   "source": [
    "> NOTE: For the Kernel RBF SVM hyper parameter tuning use these parameters in the questions:\n",
    "        \n",
    "        'C': [1, 10, 100, 1000]\n",
    "        'gamma': [0.001, 0.01, 0.1, 1]"
   ]
  },
  {
   "cell_type": "markdown",
   "metadata": {},
   "source": [
    "## Q1 [10]\n",
    "- Read in the dataset\n",
    "- How many rows and variables are there?\n"
   ]
  },
  {
   "cell_type": "markdown",
   "metadata": {},
   "source": [
    "#### Get the Data\n",
    "\n",
    "**Use pandas to read in the datasets as a dataframe.**"
   ]
  },
  {
   "cell_type": "code",
   "execution_count": 317,
   "metadata": {},
   "outputs": [],
   "source": [
    "df = pd.read_csv('gas_emissions.csv')"
   ]
  },
  {
   "cell_type": "code",
   "execution_count": 318,
   "metadata": {},
   "outputs": [
    {
     "data": {
      "text/html": [
       "<div>\n",
       "<style scoped>\n",
       "    .dataframe tbody tr th:only-of-type {\n",
       "        vertical-align: middle;\n",
       "    }\n",
       "\n",
       "    .dataframe tbody tr th {\n",
       "        vertical-align: top;\n",
       "    }\n",
       "\n",
       "    .dataframe thead th {\n",
       "        text-align: right;\n",
       "    }\n",
       "</style>\n",
       "<table border=\"1\" class=\"dataframe\">\n",
       "  <thead>\n",
       "    <tr style=\"text-align: right;\">\n",
       "      <th></th>\n",
       "      <th>AT</th>\n",
       "      <th>AP</th>\n",
       "      <th>AH</th>\n",
       "      <th>AFDP</th>\n",
       "      <th>GTEP</th>\n",
       "      <th>TIT</th>\n",
       "      <th>TAT</th>\n",
       "      <th>TEY</th>\n",
       "      <th>CDP</th>\n",
       "      <th>CO</th>\n",
       "      <th>NOX</th>\n",
       "    </tr>\n",
       "  </thead>\n",
       "  <tbody>\n",
       "    <tr>\n",
       "      <th>0</th>\n",
       "      <td>1.95320</td>\n",
       "      <td>1020.1</td>\n",
       "      <td>84.985</td>\n",
       "      <td>2.5304</td>\n",
       "      <td>20.116</td>\n",
       "      <td>1048.7</td>\n",
       "      <td>544.92</td>\n",
       "      <td>116.27</td>\n",
       "      <td>10.799</td>\n",
       "      <td>7.4491</td>\n",
       "      <td>113.250</td>\n",
       "    </tr>\n",
       "    <tr>\n",
       "      <th>1</th>\n",
       "      <td>1.21910</td>\n",
       "      <td>1020.1</td>\n",
       "      <td>87.523</td>\n",
       "      <td>2.3937</td>\n",
       "      <td>18.584</td>\n",
       "      <td>1045.5</td>\n",
       "      <td>548.50</td>\n",
       "      <td>109.18</td>\n",
       "      <td>10.347</td>\n",
       "      <td>6.4684</td>\n",
       "      <td>112.020</td>\n",
       "    </tr>\n",
       "    <tr>\n",
       "      <th>2</th>\n",
       "      <td>0.94915</td>\n",
       "      <td>1022.2</td>\n",
       "      <td>78.335</td>\n",
       "      <td>2.7789</td>\n",
       "      <td>22.264</td>\n",
       "      <td>1068.8</td>\n",
       "      <td>549.95</td>\n",
       "      <td>125.88</td>\n",
       "      <td>11.256</td>\n",
       "      <td>3.6335</td>\n",
       "      <td>88.147</td>\n",
       "    </tr>\n",
       "    <tr>\n",
       "      <th>3</th>\n",
       "      <td>1.00750</td>\n",
       "      <td>1021.7</td>\n",
       "      <td>76.942</td>\n",
       "      <td>2.8170</td>\n",
       "      <td>23.358</td>\n",
       "      <td>1075.2</td>\n",
       "      <td>549.63</td>\n",
       "      <td>132.21</td>\n",
       "      <td>11.702</td>\n",
       "      <td>3.1972</td>\n",
       "      <td>87.078</td>\n",
       "    </tr>\n",
       "    <tr>\n",
       "      <th>4</th>\n",
       "      <td>1.28580</td>\n",
       "      <td>1021.6</td>\n",
       "      <td>76.732</td>\n",
       "      <td>2.8377</td>\n",
       "      <td>23.483</td>\n",
       "      <td>1076.2</td>\n",
       "      <td>549.68</td>\n",
       "      <td>133.58</td>\n",
       "      <td>11.737</td>\n",
       "      <td>2.3833</td>\n",
       "      <td>82.515</td>\n",
       "    </tr>\n",
       "  </tbody>\n",
       "</table>\n",
       "</div>"
      ],
      "text/plain": [
       "        AT      AP      AH    AFDP    GTEP     TIT     TAT     TEY     CDP  \\\n",
       "0  1.95320  1020.1  84.985  2.5304  20.116  1048.7  544.92  116.27  10.799   \n",
       "1  1.21910  1020.1  87.523  2.3937  18.584  1045.5  548.50  109.18  10.347   \n",
       "2  0.94915  1022.2  78.335  2.7789  22.264  1068.8  549.95  125.88  11.256   \n",
       "3  1.00750  1021.7  76.942  2.8170  23.358  1075.2  549.63  132.21  11.702   \n",
       "4  1.28580  1021.6  76.732  2.8377  23.483  1076.2  549.68  133.58  11.737   \n",
       "\n",
       "       CO      NOX  \n",
       "0  7.4491  113.250  \n",
       "1  6.4684  112.020  \n",
       "2  3.6335   88.147  \n",
       "3  3.1972   87.078  \n",
       "4  2.3833   82.515  "
      ]
     },
     "execution_count": 318,
     "metadata": {},
     "output_type": "execute_result"
    }
   ],
   "source": [
    "df.head(5)"
   ]
  },
  {
   "cell_type": "code",
   "execution_count": 319,
   "metadata": {},
   "outputs": [
    {
     "data": {
      "text/plain": [
       "(7384, 11)"
      ]
     },
     "execution_count": 319,
     "metadata": {},
     "output_type": "execute_result"
    }
   ],
   "source": [
    "df.shape\n"
   ]
  },
  {
   "cell_type": "markdown",
   "metadata": {},
   "source": [
    "There are 7384 rows in the dataset and 11 variables."
   ]
  },
  {
   "cell_type": "markdown",
   "metadata": {},
   "source": [
    "#### Is there any missing data?"
   ]
  },
  {
   "cell_type": "code",
   "execution_count": 320,
   "metadata": {},
   "outputs": [
    {
     "data": {
      "text/plain": [
       "AT      0\n",
       "AP      0\n",
       "AH      0\n",
       "AFDP    0\n",
       "GTEP    0\n",
       "TIT     0\n",
       "TAT     0\n",
       "TEY     0\n",
       "CDP     0\n",
       "CO      0\n",
       "NOX     0\n",
       "dtype: int64"
      ]
     },
     "execution_count": 320,
     "metadata": {},
     "output_type": "execute_result"
    }
   ],
   "source": [
    "df.isnull().sum()"
   ]
  },
  {
   "cell_type": "markdown",
   "metadata": {},
   "source": [
    "#### What is the average value of AP for those points who have CO levels above 3 $mg/m^3$?"
   ]
  },
  {
   "cell_type": "code",
   "execution_count": 321,
   "metadata": {},
   "outputs": [
    {
     "name": "stdout",
     "output_type": "stream",
     "text": [
      "1015.6900173490633\n"
     ]
    }
   ],
   "source": [
    "co_above_3 = df[df['CO'] > 3]\n",
    "mean_ap = co_above_3['AP'].mean()\n",
    "print(mean_ap)\n"
   ]
  },
  {
   "cell_type": "markdown",
   "metadata": {},
   "source": [
    "#### Create a correlation map between the variables. Which variables have high correlation (> |0.9|)?"
   ]
  },
  {
   "cell_type": "code",
   "execution_count": 322,
   "metadata": {},
   "outputs": [
    {
     "data": {
      "text/plain": [
       "<AxesSubplot:>"
      ]
     },
     "execution_count": 322,
     "metadata": {},
     "output_type": "execute_result"
    },
    {
     "data": {
      "image/png": "[encoded data removed]",
      "text/plain": [
       "<Figure size 640x480 with 2 Axes>"
      ]
     },
     "metadata": {},
     "output_type": "display_data"
    }
   ],
   "source": [
    "corr_matrix = df.corr()\n",
    "sns.heatmap(corr_matrix, cmap='coolwarm', annot=True, fmt=\".2f\")"
   ]
  },
  {
   "cell_type": "markdown",
   "metadata": {},
   "source": [
    "The variable which has high correlation are AFDP and TIT ,TEY and GTEP, TEY and TIT ,CDP AND  GTEP ,CDP AND TIT, CDP AND TEY"
   ]
  },
  {
   "cell_type": "markdown",
   "metadata": {},
   "source": [
    "#### Create a scatter plot of 'TEY' vs 'CDP'"
   ]
  },
  {
   "cell_type": "code",
   "execution_count": 323,
   "metadata": {},
   "outputs": [
    {
     "data": {
      "text/plain": [
       "<AxesSubplot:xlabel='CDP', ylabel='TEY'>"
      ]
     },
     "execution_count": 323,
     "metadata": {},
     "output_type": "execute_result"
    },
    {
     "data": {
      "image/png": "[encoded data removed]",
      "text/plain": [
       "<Figure size 640x480 with 1 Axes>"
      ]
     },
     "metadata": {},
     "output_type": "display_data"
    }
   ],
   "source": [
    "df.plot(x='CDP',y ='TEY',kind ='scatter')"
   ]
  },
  {
   "cell_type": "markdown",
   "metadata": {},
   "source": [
    "#### Create histograms for CO and NOX."
   ]
  },
  {
   "cell_type": "code",
   "execution_count": 324,
   "metadata": {},
   "outputs": [
    {
     "data": {
      "text/plain": [
       "array([[<AxesSubplot:title={'center':'CO'}>]], dtype=object)"
      ]
     },
     "execution_count": 324,
     "metadata": {},
     "output_type": "execute_result"
    },
    {
     "data": {
      "image/png": "[encoded data removed]",
      "text/plain": [
       "<Figure size 640x480 with 1 Axes>"
      ]
     },
     "metadata": {},
     "output_type": "display_data"
    }
   ],
   "source": [
    "df[['CO']].hist(bins=20, alpha=0.5)"
   ]
  },
  {
   "cell_type": "code",
   "execution_count": 325,
   "metadata": {},
   "outputs": [
    {
     "data": {
      "text/plain": [
       "array([[<AxesSubplot:title={'center':'NOX'}>]], dtype=object)"
      ]
     },
     "execution_count": 325,
     "metadata": {},
     "output_type": "execute_result"
    },
    {
     "data": {
      "image/png": "[encoded data removed]",
      "text/plain": [
       "<Figure size 640x480 with 1 Axes>"
      ]
     },
     "metadata": {},
     "output_type": "display_data"
    }
   ],
   "source": [
    "df[['NOX']].hist(bins=20, alpha=0.5)"
   ]
  },
  {
   "cell_type": "markdown",
   "metadata": {},
   "source": [
    "#### Create a sctter plot of CO vs NOX."
   ]
  },
  {
   "cell_type": "code",
   "execution_count": 326,
   "metadata": {},
   "outputs": [
    {
     "data": {
      "text/plain": [
       "<AxesSubplot:xlabel='NOX', ylabel='CO'>"
      ]
     },
     "execution_count": 326,
     "metadata": {},
     "output_type": "execute_result"
    },
    {
     "data": {
      "image/png": "[encoded data removed]",
      "text/plain": [
       "<Figure size 640x480 with 1 Axes>"
      ]
     },
     "metadata": {},
     "output_type": "display_data"
    }
   ],
   "source": [
    "df.plot(x='NOX',y ='CO',kind ='scatter')"
   ]
  },
  {
   "cell_type": "markdown",
   "metadata": {},
   "source": [
    "### Prepare data for machine learning"
   ]
  },
  {
   "cell_type": "markdown",
   "metadata": {},
   "source": [
    "- We will predict CO using all the other variables.\n",
    "- NOX, which is another emission gas, will not be used as predictor.\n",
    "- CO is a continuous variable, thus we will be doing regression.\n",
    "- Many of algorithms that do classification also have regression counterparts."
   ]
  },
  {
   "cell_type": "code",
   "execution_count": 327,
   "metadata": {},
   "outputs": [],
   "source": [
    "y = df.CO\n",
    "X = df.drop(['CO', 'NOX'], axis=1)"
   ]
  },
  {
   "cell_type": "code",
   "execution_count": 328,
   "metadata": {},
   "outputs": [],
   "source": [
    "from sklearn.model_selection import train_test_split\n",
    "X_train, X_test, y_train, y_test = train_test_split(X, y, test_size=0.10, random_state=RANDOM_STATE)\n",
    "X_train, X_val, y_train, y_val = train_test_split(X_train, y_train, test_size=0.20, random_state=RANDOM_STATE)"
   ]
  },
  {
   "cell_type": "code",
   "execution_count": 329,
   "metadata": {},
   "outputs": [],
   "source": [
    "# Standardization of the data\n",
    "from sklearn.preprocessing import StandardScaler\n",
    "ss = StandardScaler()\n",
    "ss.fit(X_train)\n",
    "X_train = ss.transform(X_train)\n",
    "X_val = ss.transform(X_val)\n",
    "X_test = ss.transform(X_test)"
   ]
  },
  {
   "cell_type": "code",
   "execution_count": 330,
   "metadata": {},
   "outputs": [
    {
     "data": {
      "text/plain": [
       "(5316, 9)"
      ]
     },
     "execution_count": 330,
     "metadata": {},
     "output_type": "execute_result"
    }
   ],
   "source": [
    "X_train.shape"
   ]
  },
  {
   "cell_type": "code",
   "execution_count": 331,
   "metadata": {},
   "outputs": [
    {
     "data": {
      "text/plain": [
       "(1329, 9)"
      ]
     },
     "execution_count": 331,
     "metadata": {},
     "output_type": "execute_result"
    }
   ],
   "source": [
    "X_val.shape"
   ]
  },
  {
   "cell_type": "code",
   "execution_count": 332,
   "metadata": {},
   "outputs": [
    {
     "data": {
      "text/plain": [
       "(739, 9)"
      ]
     },
     "execution_count": 332,
     "metadata": {},
     "output_type": "execute_result"
    }
   ],
   "source": [
    "X_test.shape"
   ]
  },
  {
   "cell_type": "markdown",
   "metadata": {},
   "source": [
    "## Utility Functions"
   ]
  },
  {
   "cell_type": "markdown",
   "metadata": {},
   "source": [
    "You can create helper functions.\n",
    "For example, create functions that take the score and store it in a dataframe for a specific model."
   ]
  },
  {
   "cell_type": "code",
   "execution_count": null,
   "metadata": {},
   "outputs": [],
   "source": []
  },
  {
   "cell_type": "code",
   "execution_count": null,
   "metadata": {},
   "outputs": [],
   "source": []
  },
  {
   "cell_type": "code",
   "execution_count": null,
   "metadata": {},
   "outputs": [],
   "source": []
  },
  {
   "cell_type": "markdown",
   "metadata": {},
   "source": [
    "## Q2 [10]"
   ]
  },
  {
   "cell_type": "markdown",
   "metadata": {},
   "source": [
    "- Apply Linear Regression. Predict CO emission using other variables.\n",
    "    - What is the model $R^2$ on training data?\n",
    "    - What is the $R^2$ on validation data?\n",
    "    - What is the Root Mean Squared Error (RMSE) on training data?\n",
    "    - What is the RMSE on validation data?\n",
    "    \n",
    "> - $R^2$ higher is better. ($R^2$ is % variation in data being explained)  \n",
    "> - RMSE lower is better. (RMSE (Root Mean Squared Error) is error, meaning the difference between predictions and actual data)  \n",
    "\n",
    "Hint:  \n",
    "- You can use the `r2_score` and `mean_squared_error` methods in `sklearn.metrics`.   \n",
    "- You need to take the square root of Mean Squared Error to get to RMSE. (MSE $\\rightarrow$ square root $\\rightarrow$ RMSE)"
   ]
  },
  {
   "cell_type": "code",
   "execution_count": 333,
   "metadata": {},
   "outputs": [],
   "source": [
    "from sklearn.linear_model import LinearRegression"
   ]
  },
  {
   "cell_type": "code",
   "execution_count": 334,
   "metadata": {},
   "outputs": [
    {
     "data": {
      "text/plain": [
       "LinearRegression()"
      ]
     },
     "execution_count": 334,
     "metadata": {},
     "output_type": "execute_result"
    }
   ],
   "source": [
    "model = LinearRegression()\n",
    "model.fit(X_train, y_train)"
   ]
  },
  {
   "cell_type": "code",
   "execution_count": 335,
   "metadata": {},
   "outputs": [],
   "source": [
    "# Make predictions on the training and validation sets\n",
    "y_pred_train = model.predict(X_train)\n",
    "y_pred_val = model.predict(X_val)"
   ]
  },
  {
   "cell_type": "code",
   "execution_count": 336,
   "metadata": {},
   "outputs": [],
   "source": [
    "# Calculate R^2 scores\n",
    "r2_train = r2_score(y_train, y_pred_train)\n",
    "r2_val = r2_score(y_val, y_pred_val)\n"
   ]
  },
  {
   "cell_type": "code",
   "execution_count": 337,
   "metadata": {},
   "outputs": [
    {
     "name": "stdout",
     "output_type": "stream",
     "text": [
      "R^2 score on training data: 0.66\n",
      "R^2 score on validation data: 0.65\n",
      "RMSE on training data: 1.27\n",
      "RMSE on validation data: 1.39\n"
     ]
    }
   ],
   "source": [
    "# Calculate RMSE scores\n",
    "rmse_train = np.sqrt(mean_squared_error(y_train, y_pred_train))\n",
    "rmse_val = np.sqrt(mean_squared_error(y_val, y_pred_val))\n",
    "\n",
    "# Print the results\n",
    "print(f\"R^2 score on training data: {r2_train:.2f}\")\n",
    "print(f\"R^2 score on validation data: {r2_val:.2f}\")\n",
    "print(f\"RMSE on training data: {rmse_train:.2f}\")\n",
    "print(f\"RMSE on validation data: {rmse_val:.2f}\")"
   ]
  },
  {
   "cell_type": "markdown",
   "metadata": {},
   "source": [
    "## Q3 [10]"
   ]
  },
  {
   "cell_type": "markdown",
   "metadata": {},
   "source": [
    "- Apply Random Forest Regression with 100 trees. Predict CO emission using other variables.\n",
    "    - What is the model $R^2$?\n",
    "    - What is the $R^2$ on validation data?\n",
    "    - What is the RMSE on training data?\n",
    "    - What is the RMSE on validation data?\n",
    "\n",
    "- Is training and validation score close? If not what might be the problem?\n",
    "- If there is a large gap, try to decrease the gap by changing some hyperparameters of the Random Forest model. (In this analysis, any difference more than 0.10 $R^2$ difference can be assumed to be large.)\n",
    "    - Once you reach a difference of less than or close to 0.10 between training $R^2$ and validation $R^2$ you can stop. \n",
    "    - During this process your training score will probably decrease, and that is OK. "
   ]
  },
  {
   "cell_type": "code",
   "execution_count": 338,
   "metadata": {},
   "outputs": [],
   "source": [
    "from sklearn.ensemble import RandomForestRegressor"
   ]
  },
  {
   "cell_type": "code",
   "execution_count": 339,
   "metadata": {},
   "outputs": [],
   "source": [
    "estimator = RandomForestRegressor(n_estimators=100, random_state=RANDOM_STATE)"
   ]
  },
  {
   "cell_type": "code",
   "execution_count": 340,
   "metadata": {},
   "outputs": [],
   "source": [
    "model.fit(X_train, y_train)\n",
    "\n",
    "# Make predictions on the training and validation sets\n",
    "y_pred_train = model.predict(X_train)\n",
    "y_pred_val = model.predict(X_val)\n",
    "\n",
    "# Calculate R^2 scores\n",
    "r2_train = r2_score(y_train, y_pred_train)\n",
    "r2_val = r2_score(y_val, y_pred_val)\n",
    "\n",
    "# Calculate RMSE scores\n",
    "rmse_train = np.sqrt(mean_squared_error(y_train, y_pred_train))\n",
    "rmse_val = np.sqrt(mean_squared_error(y_val, y_pred_val))"
   ]
  },
  {
   "cell_type": "code",
   "execution_count": 341,
   "metadata": {},
   "outputs": [
    {
     "name": "stdout",
     "output_type": "stream",
     "text": [
      "R^2 score on training data: 0.66\n",
      "R^2 score on validation data: 0.65\n",
      "RMSE on training data: 1.27\n",
      "RMSE on validation data: 1.39\n",
      "Difference between training and validation R^2 scores: 0.02\n"
     ]
    }
   ],
   "source": [
    "# Print the results\n",
    "print(f\"R^2 score on training data: {r2_train:.2f}\")\n",
    "print(f\"R^2 score on validation data: {r2_val:.2f}\")\n",
    "print(f\"RMSE on training data: {rmse_train:.2f}\")\n",
    "print(f\"RMSE on validation data: {rmse_val:.2f}\")\n",
    "\n",
    "# Check the difference between training and validation scores\n",
    "r2_diff = r2_train - r2_val\n",
    "print(f\"Difference between training and validation R^2 scores: {r2_diff:.2f}\")\n"
   ]
  },
  {
   "cell_type": "markdown",
   "metadata": {},
   "source": [
    "## Q4 [10]"
   ]
  },
  {
   "cell_type": "markdown",
   "metadata": {},
   "source": [
    "- Apply Support Vector Regression. Predict CO emission using other variables.\n",
    "    - What is the model $R^2$?\n",
    "    - What is the $R^2$ on validation data?\n",
    "    - What is the RMSE on training data?\n",
    "    - What is the RMSE on validation data?\n",
    "    \n",
    "- Do this for each of the models listed below using the default parameters:  \n",
    "    1. **Linear kernel SVR**  \n",
    "    2. **Polynomial kernel SVR**  \n",
    "    3. **RBF kernel SVR** "
   ]
  },
  {
   "cell_type": "code",
   "execution_count": 342,
   "metadata": {},
   "outputs": [],
   "source": [
    "from sklearn.svm import SVR"
   ]
  },
  {
   "cell_type": "markdown",
   "metadata": {},
   "source": [
    "### Linear SVM Regressor"
   ]
  },
  {
   "cell_type": "code",
   "execution_count": 343,
   "metadata": {},
   "outputs": [
    {
     "data": {
      "text/plain": [
       "SVR(kernel='linear')"
      ]
     },
     "execution_count": 343,
     "metadata": {},
     "output_type": "execute_result"
    }
   ],
   "source": [
    "estimator = SVR(kernel='linear')\n",
    "estimator"
   ]
  },
  {
   "cell_type": "code",
   "execution_count": 344,
   "metadata": {},
   "outputs": [
    {
     "name": "stdout",
     "output_type": "stream",
     "text": [
      "R2 score on training data: 0.624\n",
      "R2 score on validation data: 0.602\n",
      "RMSE on training data: 1.345\n",
      "RMSE on validation data: 1.473\n"
     ]
    }
   ],
   "source": [
    "estimator.fit(X_train, y_train)\n",
    "\n",
    "# predict CO emission using the trained model\n",
    "y_train_pred = estimator.predict(X_train)\n",
    "y_val_pred = estimator.predict(X_val)\n",
    "\n",
    "# calculate R2 score and RMSE on training and validation data\n",
    "r2_train = r2_score(y_train, y_train_pred)\n",
    "r2_val = r2_score(y_val, y_val_pred)\n",
    "rmse_train = mean_squared_error(y_train, y_train_pred, squared=False)\n",
    "rmse_val = mean_squared_error(y_val, y_val_pred, squared=False)\n",
    "\n",
    "\n",
    "print(f\"R2 score on training data: {r2_train:.3f}\")\n",
    "print(f\"R2 score on validation data: {r2_val:.3f}\")\n",
    "print(f\"RMSE on training data: {rmse_train:.3f}\")\n",
    "print(f\"RMSE on validation data: {rmse_val:.3f}\")"
   ]
  },
  {
   "cell_type": "markdown",
   "metadata": {},
   "source": [
    "### Polynomial Kernel SVM Regressor"
   ]
  },
  {
   "cell_type": "code",
   "execution_count": 345,
   "metadata": {},
   "outputs": [],
   "source": [
    "from sklearn.svm import SVR\n",
    "estimator = SVR(kernel='poly')"
   ]
  },
  {
   "cell_type": "code",
   "execution_count": 346,
   "metadata": {},
   "outputs": [
    {
     "name": "stdout",
     "output_type": "stream",
     "text": [
      "R2 score on training data: 0.740\n",
      "R2 score on validation data: 0.731\n",
      "RMSE on training data: 1.118\n",
      "RMSE on validation data: 1.211\n"
     ]
    }
   ],
   "source": [
    "estimator.fit(X_train, y_train)\n",
    "\n",
    "# predict CO emission using the trained model\n",
    "y_train_pred = estimator.predict(X_train)\n",
    "y_val_pred = estimator.predict(X_val)\n",
    "\n",
    "# calculate R2 score and RMSE on training and validation data\n",
    "r2_train = r2_score(y_train, y_train_pred)\n",
    "r2_val = r2_score(y_val, y_val_pred)\n",
    "rmse_train = mean_squared_error(y_train, y_train_pred, squared=False)\n",
    "rmse_val = mean_squared_error(y_val, y_val_pred, squared=False)\n",
    "\n",
    "print(f\"R2 score on training data: {r2_train:.3f}\")\n",
    "print(f\"R2 score on validation data: {r2_val:.3f}\")\n",
    "print(f\"RMSE on training data: {rmse_train:.3f}\")\n",
    "print(f\"RMSE on validation data: {rmse_val:.3f}\")"
   ]
  },
  {
   "cell_type": "markdown",
   "metadata": {},
   "source": [
    "### RBF Kernel SVM Regressor"
   ]
  },
  {
   "cell_type": "code",
   "execution_count": 347,
   "metadata": {},
   "outputs": [],
   "source": [
    "from sklearn.svm import SVR\n",
    "estimator = SVR(kernel='rbf')"
   ]
  },
  {
   "cell_type": "code",
   "execution_count": 348,
   "metadata": {},
   "outputs": [
    {
     "name": "stdout",
     "output_type": "stream",
     "text": [
      "R2 score on training data: 0.765\n",
      "R2 score on validation data: 0.748\n",
      "RMSE on training data: 1.063\n",
      "RMSE on validation data: 1.173\n"
     ]
    }
   ],
   "source": [
    "estimator.fit(X_train, y_train)\n",
    "\n",
    "# predict CO emission using the trained model\n",
    "y_train_pred = estimator.predict(X_train)\n",
    "y_val_pred = estimator.predict(X_val)\n",
    "\n",
    "# calculate R2 score and RMSE on training and validation data\n",
    "r2_train = r2_score(y_train, y_train_pred)\n",
    "r2_val = r2_score(y_val, y_val_pred)\n",
    "rmse_train = mean_squared_error(y_train, y_train_pred, squared=False)\n",
    "rmse_val = mean_squared_error(y_val, y_val_pred, squared=False)\n",
    "\n",
    "print(f\"R2 score on training data: {r2_train:.3f}\")\n",
    "print(f\"R2 score on validation data: {r2_val:.3f}\")\n",
    "print(f\"RMSE on training data: {rmse_train:.3f}\")\n",
    "print(f\"RMSE on validation data: {rmse_val:.3f}\")"
   ]
  },
  {
   "cell_type": "markdown",
   "metadata": {},
   "source": [
    "### Q5 [10]"
   ]
  },
  {
   "cell_type": "markdown",
   "metadata": {},
   "source": [
    "- Take RBF Kernel SVM and perform hyperparameter tuning. See if you can increase the $R^2$ score.   \n",
    "    - Use:  \n",
    "          'C': [1, 10, 100, 1000]\n",
    "          'gamma': [0.001, 0.01, 0.1, 1]  \n",
    "\n",
    "    - What is the model $R^2$?\n",
    "    - What is the $R^2$ on validation data?\n",
    "    - What is the RMSE on training data?\n",
    "    - What is the RMSE on validation data?"
   ]
  },
  {
   "cell_type": "code",
   "execution_count": 349,
   "metadata": {},
   "outputs": [],
   "source": [
    "from sklearn.model_selection import GridSearchCV"
   ]
  },
  {
   "cell_type": "code",
   "execution_count": 350,
   "metadata": {},
   "outputs": [],
   "source": [
    "param_grid = {'C': [1, 10, 100, 1000], 'gamma': [0.001, 0.01, 0.1, 1]}\n",
    "svm = SVR(kernel='rbf')\n",
    "\n",
    "grid = GridSearchCV(svm, param_grid, cv=5)\n",
    "\n",
    "grid.fit(X_train, y_train)\n",
    "\n",
    "best_params = grid.best_params_\n",
    "\n",
    "svm = SVR(kernel='rbf', C=best_params['C'], gamma=best_params['gamma'])\n",
    "svm.fit(X_train, y_train)\n",
    "\n",
    "y_train_pred = svm.predict(X_train)\n",
    "y_val_pred = svm.predict(X_val)\n",
    "\n",
    "# Get R^2 score on training data\n",
    "r2_train = r2_score(y_train, y_train_pred)\n",
    "\n",
    "# Get R^2 score on validation data\n",
    "r2_val = r2_score(y_val, y_val_pred)\n",
    "\n",
    "# Get RMSE on training data\n",
    "rmse_train = np.sqrt(mean_squared_error(y_train, y_train_pred))\n",
    "\n",
    "# Get RMSE on validation data\n",
    "rmse_val = np.sqrt(mean_squared_error(y_val, y_val_pred))"
   ]
  },
  {
   "cell_type": "code",
   "execution_count": 351,
   "metadata": {},
   "outputs": [
    {
     "name": "stdout",
     "output_type": "stream",
     "text": [
      "R^2 on training data: 0.792\n",
      "R^2 on validation data: 0.757\n",
      "RMSE on training data: 1.000\n",
      "RMSE on validation data: 1.151\n"
     ]
    }
   ],
   "source": [
    "print(\"R^2 on training data: {:.3f}\".format(r2_train))\n",
    "print(\"R^2 on validation data: {:.3f}\".format(r2_val))\n",
    "print(\"RMSE on training data: {:.3f}\".format(rmse_train))\n",
    "print(\"RMSE on validation data: {:.3f}\".format(rmse_val))"
   ]
  },
  {
   "cell_type": "markdown",
   "metadata": {},
   "source": [
    "## Q6 [10]"
   ]
  },
  {
   "cell_type": "markdown",
   "metadata": {},
   "source": [
    "- Apply PCA and transform the data. \n",
    "    - For PCA we need to decide on the number of  components. Take sufficient number of components based on variance explained \n",
    "        - generally it is chosen as the number of components that can explain 90% of the variance \n",
    "        - or cross-validation accuracy using an ML model.\n",
    "\n",
    "- Use the PCA transformed data to perform regression. Use the models: \n",
    "    - Linear Regression\n",
    "    - Random Forest Regression (Optional to do hyper parameter tuning)\n",
    "    - RBF Kernel Support Vector Regression (Optional to do hyper parameter tuning)\n",
    "  \n",
    "- For each model:  \n",
    "    - What is the model $R^2$?\n",
    "    - What is the $R^2$ on validation data?\n",
    "    - What is the RMSE on training data?\n",
    "    - What is the RMSE on validation data?\n",
    "    \n",
    "- Compare these models with their counterparts obtained before. For example: Compare `PCA RBF SVR` with the `RBF SVR` model from before. Do you observe any change in performance? Please explain. \n"
   ]
  },
  {
   "cell_type": "code",
   "execution_count": 352,
   "metadata": {},
   "outputs": [],
   "source": [
    "from sklearn.decomposition import PCA"
   ]
  },
  {
   "cell_type": "code",
   "execution_count": 353,
   "metadata": {},
   "outputs": [],
   "source": [
    "pca = PCA(n_components= 4)\n",
    "\n",
    "pca.fit(X_train)\n",
    "X_train_pca = pca.transform(X_train)\n",
    "X_val_pca = pca.transform(X_val)\n",
    "X_test_pca = pca.transform(X_test)"
   ]
  },
  {
   "cell_type": "code",
   "execution_count": 354,
   "metadata": {},
   "outputs": [
    {
     "name": "stdout",
     "output_type": "stream",
     "text": [
      "[0.58158952 0.78924196 0.88751722 0.94337792]\n"
     ]
    },
    {
     "data": {
      "image/png": "[encoded data removed]",
      "text/plain": [
       "<Figure size 640x480 with 1 Axes>"
      ]
     },
     "metadata": {},
     "output_type": "display_data"
    }
   ],
   "source": [
    "print(pca.explained_variance_ratio_.cumsum())\n",
    "plt.plot(pca.explained_variance_ratio_.cumsum(), '-o');\n",
    "plt.xticks(ticks= range(X_train_pca.shape[1]), labels=[i+1 for i in range(X_train_pca.shape[1])])\n",
    "plt.xlabel('Principal Components')\n",
    "plt.ylabel('Variance Explained')\n",
    "plt.show()"
   ]
  },
  {
   "cell_type": "markdown",
   "metadata": {},
   "source": [
    "Choose the number of components."
   ]
  },
  {
   "cell_type": "markdown",
   "metadata": {},
   "source": [
    "I have choose n= 4 because it explain 90% of the variance"
   ]
  },
  {
   "cell_type": "code",
   "execution_count": 355,
   "metadata": {},
   "outputs": [],
   "source": [
    "X_train_pca2 = X_train_pca[:, 0:5]\n",
    "X_val_pca2 = X_val_pca[:, 0:5]\n",
    "X_test_pca2 = X_test_pca[:, 0:5]"
   ]
  },
  {
   "cell_type": "markdown",
   "metadata": {},
   "source": [
    "**Linear Regression with PCA transformed data**"
   ]
  },
  {
   "cell_type": "code",
   "execution_count": 356,
   "metadata": {},
   "outputs": [
    {
     "data": {
      "text/plain": [
       "LinearRegression()"
      ]
     },
     "execution_count": 356,
     "metadata": {},
     "output_type": "execute_result"
    }
   ],
   "source": [
    "from sklearn.linear_model import LinearRegression\n",
    "lin_reg = LinearRegression()\n",
    "lin_reg.fit(X_train_pca2, y_train)"
   ]
  },
  {
   "cell_type": "code",
   "execution_count": 357,
   "metadata": {},
   "outputs": [],
   "source": [
    "#Predicting the Test set results\n",
    "y_pred_train = lin_reg.predict(X_train_pca2)\n",
    "y_pred_val = lin_reg.predict(X_val_pca2)"
   ]
  },
  {
   "cell_type": "code",
   "execution_count": 358,
   "metadata": {},
   "outputs": [
    {
     "name": "stdout",
     "output_type": "stream",
     "text": [
      "Linear Regression Results:\n",
      "R^2 on Training Data:  0.6263066109282658\n",
      "R^2 on Validation Data:  0.6134336041168147\n",
      "RMSE on Training Data:  1.341483139462183\n",
      "RMSE on Validation Data:  1.4516557115788002\n"
     ]
    }
   ],
   "source": [
    "print(\"Linear Regression Results:\")\n",
    "print(\"R^2 on Training Data: \", r2_score(y_train, y_pred_train))\n",
    "print(\"R^2 on Validation Data: \", r2_score(y_val, y_pred_val))\n",
    "print(\"RMSE on Training Data: \", mean_squared_error(y_train, y_pred_train, squared=False))\n",
    "print(\"RMSE on Validation Data: \", mean_squared_error(y_val, y_pred_val, squared=False))"
   ]
  },
  {
   "cell_type": "markdown",
   "metadata": {},
   "source": [
    "\n",
    "**RF Regression with PCA transformed data**"
   ]
  },
  {
   "cell_type": "code",
   "execution_count": 359,
   "metadata": {},
   "outputs": [
    {
     "data": {
      "text/plain": [
       "RandomForestRegressor(random_state=0)"
      ]
     },
     "execution_count": 359,
     "metadata": {},
     "output_type": "execute_result"
    }
   ],
   "source": [
    "from sklearn.ensemble import RandomForestRegressor\n",
    "rf_reg = RandomForestRegressor(n_estimators=100, random_state=RANDOM_STATE)\n",
    "rf_reg.fit(X_train_pca2, y_train)"
   ]
  },
  {
   "cell_type": "code",
   "execution_count": 360,
   "metadata": {},
   "outputs": [],
   "source": [
    "#Predicting the Test set results\n",
    "y_pred_train = rf_reg.predict(X_train_pca2)\n",
    "y_pred_val = rf_reg.predict(X_val_pca2)"
   ]
  },
  {
   "cell_type": "code",
   "execution_count": 361,
   "metadata": {},
   "outputs": [
    {
     "name": "stdout",
     "output_type": "stream",
     "text": [
      "\n",
      "Random Forest Regression Results:\n",
      "R^2 on Training Data:  0.960931909650439\n",
      "R^2 on Validation Data:  0.7278194817439363\n",
      "RMSE on Training Data:  0.433749116137126\n",
      "RMSE on Validation Data:  1.2180920154190602\n"
     ]
    }
   ],
   "source": [
    "#Evaluating the model\n",
    "print(\"\\nRandom Forest Regression Results:\")\n",
    "print(\"R^2 on Training Data: \", r2_score(y_train, y_pred_train))\n",
    "print(\"R^2 on Validation Data: \", r2_score(y_val, y_pred_val))\n",
    "print(\"RMSE on Training Data: \", mean_squared_error(y_train, y_pred_train, squared=False))\n",
    "print(\"RMSE on Validation Data: \", mean_squared_error(y_val, y_pred_val, squared=False))"
   ]
  },
  {
   "cell_type": "markdown",
   "metadata": {},
   "source": [
    "**SVM Regression with PCA transformed data**"
   ]
  },
  {
   "cell_type": "code",
   "execution_count": 362,
   "metadata": {},
   "outputs": [
    {
     "data": {
      "text/plain": [
       "SVR()"
      ]
     },
     "execution_count": 362,
     "metadata": {},
     "output_type": "execute_result"
    }
   ],
   "source": [
    "from sklearn.svm import SVR\n",
    "rbf_svr = SVR(kernel='rbf')\n",
    "rbf_svr.fit(X_train_pca2, y_train)"
   ]
  },
  {
   "cell_type": "code",
   "execution_count": 239,
   "metadata": {},
   "outputs": [],
   "source": [
    "#Predicting the Test set results\n",
    "y_pred_train = rbf_svr.predict(X_train_pca2)\n",
    "y_pred_val = rbf_svr.predict(X_val_pca2)"
   ]
  },
  {
   "cell_type": "code",
   "execution_count": 240,
   "metadata": {},
   "outputs": [
    {
     "name": "stdout",
     "output_type": "stream",
     "text": [
      "\n",
      "RBF Kernel Support Vector Regression Results:\n",
      "R^2 on Training Data:  0.7453935705389674\n",
      "R^2 on Validation Data:  0.735002797486919\n",
      "RMSE on Training Data:  1.10729208197278\n",
      "RMSE on Validation Data:  1.201910758681722\n"
     ]
    }
   ],
   "source": [
    "#Evaluating the model\n",
    "print(\"\\nRBF Kernel Support Vector Regression Results:\")\n",
    "print(\"R^2 on Training Data: \", r2_score(y_train, y_pred_train))\n",
    "print(\"R^2 on Validation Data: \", r2_score(y_val, y_pred_val))\n",
    "print(\"RMSE on Training Data: \", mean_squared_error(y_train, y_pred_train, squared=False))\n",
    "print(\"RMSE on Validation Data: \", mean_squared_error(y_val, y_pred_val, squared=False))"
   ]
  },
  {
   "cell_type": "markdown",
   "metadata": {},
   "source": [
    "# Linear Regression Without PCA:"
   ]
  },
  {
   "cell_type": "raw",
   "metadata": {},
   "source": [
    "R^2 score on training data: 0.66\n",
    "R^2 score on validation data: 0.65\n",
    "RMSE on training data: 1.27\n",
    "RMSE on validation data: 1.39"
   ]
  },
  {
   "cell_type": "markdown",
   "metadata": {},
   "source": [
    "# Linear Regression with PCA:"
   ]
  },
  {
   "cell_type": "raw",
   "metadata": {},
   "source": [
    "R^2 on Training Data:  0.6263066109282658\n",
    "R^2 on Validation Data:  0.6134336041168145\n",
    "RMSE on Training Data:  1.341483139462183\n",
    "RMSE on Validation Data:  1.4516557115788005"
   ]
  },
  {
   "cell_type": "markdown",
   "metadata": {},
   "source": [
    "Yes, there is a change in performance after using PCA in linear regression. The R^2 score and RMSE on both training and validation data are lower after using PCA, indicating a decrease in model performance. This might be due to the fact that some important information might have been lost during dimensionality reduction with PCA. However, the difference in performance is not significant, which indicates that using PCA might still be a good approach for reducing the dimensionality of the data while preserving most of the important information."
   ]
  },
  {
   "cell_type": "markdown",
   "metadata": {},
   "source": [
    "# Random Forest Regression Without PCA:"
   ]
  },
  {
   "cell_type": "raw",
   "metadata": {},
   "source": [
    "R^2 score on training data: 0.66\n",
    "R^2 score on validation data: 0.65\n",
    "RMSE on training data: 1.27\n",
    "RMSE on validation data: 1.39\n"
   ]
  },
  {
   "cell_type": "markdown",
   "metadata": {},
   "source": [
    "# Random Forest Regression With PCA:"
   ]
  },
  {
   "cell_type": "raw",
   "metadata": {},
   "source": [
    "R^2 on Training Data:  0.960931909650439\n",
    "R^2 on Validation Data:  0.7278194817439363\n",
    "RMSE on Training Data:  0.433749116137126\n",
    "RMSE on Validation Data:  1.2180920154190602"
   ]
  },
  {
   "cell_type": "markdown",
   "metadata": {},
   "source": [
    "Yes, there is a significant change in the performance of the Random Forest Regression model after applying PCA. The R^2 score on the training data increased from 0.66 without PCA to 0.96 with PCA, which indicates that the model explains more of the variability in the data after PCA. However, the R^2 score on the validation data decreased slightly from 0.65 without PCA to 0.73 with PCA. This may be because the model is overfitting to the training data after PCA, as the training data RMSE decreased from 1.27 without PCA to 0.43 with PCA, but the validation data RMSE increased from 1.39 without PCA to 1.22 with PCA. Overall, PCA has improved the performance of the Random Forest Regression model on the training data but may not generalize as well to new data."
   ]
  },
  {
   "cell_type": "markdown",
   "metadata": {},
   "source": [
    "# Support vector regression with RBF kernel Without PCA"
   ]
  },
  {
   "cell_type": "raw",
   "metadata": {},
   "source": [
    "R2 score on training data: 0.765\n",
    "R2 score on validation data: 0.748\n",
    "RMSE on training data: 1.063\n",
    "RMSE on validation data: 1.173\n"
   ]
  },
  {
   "cell_type": "markdown",
   "metadata": {},
   "source": [
    "# Support vector regression with RBF kernel With PCA"
   ]
  },
  {
   "cell_type": "raw",
   "metadata": {},
   "source": [
    "R^2 on Training Data:  0.7453935705389669\n",
    "R^2 on Validation Data:  0.7350027974869187\n",
    "RMSE on Training Data:  1.1072920819727812\n",
    "RMSE on Validation Data:  1.2019107586817228"
   ]
  },
  {
   "cell_type": "markdown",
   "metadata": {},
   "source": [
    "Yes, there is a slight decrease in performance for the Support Vector Regression with RBF kernel after applying PCA. The R^2 score on the training data decreased from 0.765 to 0.745 and the R^2 score on the validation data decreased from 0.748 to 0.735. Additionally, the RMSE increased slightly on both the training and validation data.\n",
    "\n",
    "This decrease in performance is likely due to the fact that PCA reduces the dimensionality of the data by combining features and creating new principal components. While this can help to reduce overfitting, it may also result in the loss of important information and signal in the data, leading to a decrease in model performance."
   ]
  },
  {
   "cell_type": "markdown",
   "metadata": {},
   "source": [
    "# Q7 [10]"
   ]
  },
  {
   "cell_type": "markdown",
   "metadata": {},
   "source": [
    "#### Let's do  classification "
   ]
  },
  {
   "cell_type": "markdown",
   "metadata": {},
   "source": [
    "We will convert CO target values into binary form by comparing them to a threshold. $ 0 - 3  mg/m^3$ is the range of max 8-hour avg. ambient CO in most US cities. So let's take that.  \n",
    "[CO Levels of Concern in Government Recommendations and Regulations](https://www.carbonmonoxidekills.com/are-you-at-risk/carbon-monoxide-levels/)"
   ]
  },
  {
   "cell_type": "code",
   "execution_count": 270,
   "metadata": {},
   "outputs": [],
   "source": [
    "from sklearn.preprocessing import Binarizer"
   ]
  },
  {
   "cell_type": "code",
   "execution_count": 271,
   "metadata": {},
   "outputs": [],
   "source": [
    "binarizer = Binarizer(threshold=3)"
   ]
  },
  {
   "cell_type": "code",
   "execution_count": 272,
   "metadata": {},
   "outputs": [],
   "source": [
    "y_train_cat = binarizer.transform(y_train.values.reshape(-1,1)).ravel()\n",
    "y_val_cat = binarizer.transform(y_val.values.reshape(-1,1)).ravel()\n",
    "y_test_cat = binarizer.transform(y_test.values.reshape(-1,1)).ravel()"
   ]
  },
  {
   "cell_type": "code",
   "execution_count": 273,
   "metadata": {},
   "outputs": [],
   "source": [
    "y_train_cat = pd.Series(y_train_cat)"
   ]
  },
  {
   "cell_type": "code",
   "execution_count": 274,
   "metadata": {},
   "outputs": [
    {
     "data": {
      "text/plain": [
       "<AxesSubplot:>"
      ]
     },
     "execution_count": 274,
     "metadata": {},
     "output_type": "execute_result"
    },
    {
     "data": {
      "image/png": "[encoded data removed]",
      "text/plain": [
       "<Figure size 640x480 with 1 Axes>"
      ]
     },
     "metadata": {},
     "output_type": "display_data"
    }
   ],
   "source": [
    "y_train_cat.value_counts().plot.barh()"
   ]
  },
  {
   "cell_type": "markdown",
   "metadata": {},
   "source": [
    "### Fit RBF Kernel SVM Classifier\n",
    "\n",
    "#### 1. Standardized training data \n",
    "- Using the standardized training data perform grid search:\n",
    "    - Find the best combination of the `C` and `gamma` hyper-parameters.  \n",
    "- For the best model:\n",
    "    - Either using the confusion matrix or the methods in `sklearn.metrics` get the following metrics on the validation set:\n",
    "     - Create confusion matrix\n",
    "     - Recall (Sensitivity)\n",
    "     - Specificity\n",
    "     - Precision\n",
    "     - Balanced Accuracy\n",
    "     - F1 Score\n",
    "     \n",
    "\n",
    "#### 2. PCA transformed training data \n",
    "- Using the **pca** transformed training data `X_train_pca2` perform grid search:\n",
    "    - Find the best combination of the `C` and `gamma` hyper-parameters.  \n",
    "- For the best model:\n",
    "    - Either using the confusion matrix or the methods in `sklearn.metrics` get the following metrics on the validation set `X_val_pca2`:\n",
    "         - Create confusion matrix\n",
    "         - Recall (Sensitivity)\n",
    "         - Specificity\n",
    "         - Precision\n",
    "         - Balanced Accuracy\n",
    "         - F1 Score\n"
   ]
  },
  {
   "cell_type": "code",
   "execution_count": 275,
   "metadata": {},
   "outputs": [],
   "source": [
    "from sklearn.svm import SVC"
   ]
  },
  {
   "cell_type": "code",
   "execution_count": 276,
   "metadata": {},
   "outputs": [],
   "source": [
    "estimator = SVC(kernel ='rbf')"
   ]
  },
  {
   "cell_type": "markdown",
   "metadata": {},
   "source": [
    "#### SVC Model 1 "
   ]
  },
  {
   "cell_type": "code",
   "execution_count": 277,
   "metadata": {},
   "outputs": [
    {
     "data": {
      "text/plain": [
       "GridSearchCV(cv=5, estimator=SVC(),\n",
       "             param_grid={'C': [1, 10, 100, 1000],\n",
       "                         'gamma': [0.001, 0.01, 0.1, 1]})"
      ]
     },
     "execution_count": 277,
     "metadata": {},
     "output_type": "execute_result"
    }
   ],
   "source": [
    "from sklearn.model_selection import GridSearchCV\n",
    "\n",
    "param_grid = {'C': [1, 10, 100, 1000], 'gamma': [0.001, 0.01, 0.1, 1]}\n",
    "svm_clf = GridSearchCV(estimator, param_grid, cv=5)\n",
    "svm_clf.fit(X_train, y_train_cat)"
   ]
  },
  {
   "cell_type": "code",
   "execution_count": 278,
   "metadata": {},
   "outputs": [],
   "source": [
    "#Get the best hyper-parameters\n",
    "best_c = svm_clf.best_params_['C']\n",
    "best_gamma = svm_clf.best_params_['gamma']"
   ]
  },
  {
   "cell_type": "code",
   "execution_count": 279,
   "metadata": {},
   "outputs": [],
   "source": [
    "from sklearn.metrics import confusion_matrix, recall_score, precision_score, balanced_accuracy_score, f1_score\n",
    "\n"
   ]
  },
  {
   "cell_type": "code",
   "execution_count": 280,
   "metadata": {},
   "outputs": [],
   "source": [
    "#Fit the SVM model on the best hyper-parameters\n",
    "svm_clf = SVC(kernel='rbf', C=best_c, gamma=best_gamma)\n",
    "svm_clf.fit(X_train, y_train_cat)\n",
    "\n",
    "#Make predictions on validation set\n",
    "y_pred_val = svm_clf.predict(X_val)"
   ]
  },
  {
   "cell_type": "code",
   "execution_count": 281,
   "metadata": {},
   "outputs": [
    {
     "name": "stdout",
     "output_type": "stream",
     "text": [
      "Confusion Matrix:\n",
      " [[762  50]\n",
      " [ 68 449]]\n",
      "Recall (Sensitivity): 0.8684719535783365\n",
      "Precision: 0.8997995991983968\n",
      "Specificity: 0.9384236453201971\n",
      "Balanced Accuracy: 0.9034477994492668\n",
      "F1 Score: 0.8838582677165354\n"
     ]
    }
   ],
   "source": [
    "#Evaluate the model using confusion matrix and classification metrics\n",
    "conf_mat = confusion_matrix(y_val_cat, y_pred_val)\n",
    "recall = recall_score(y_val_cat, y_pred_val)\n",
    "precision = precision_score(y_val_cat, y_pred_val)\n",
    "specificity = conf_mat[0][0] / (conf_mat[0][0] + conf_mat[0][1])\n",
    "balanced_accuracy = balanced_accuracy_score(y_val_cat, y_pred_val)\n",
    "f1 = f1_score(y_val_cat, y_pred_val)\n",
    "\n",
    "print(\"Confusion Matrix:\\n\", conf_mat)\n",
    "print(\"Recall (Sensitivity):\", recall)\n",
    "print(\"Precision:\", precision)\n",
    "print(\"Specificity:\", specificity)\n",
    "print(\"Balanced Accuracy:\", balanced_accuracy)\n",
    "print(\"F1 Score:\", f1)"
   ]
  },
  {
   "cell_type": "markdown",
   "metadata": {},
   "source": [
    "#### SVC Model 2"
   ]
  },
  {
   "cell_type": "code",
   "execution_count": 282,
   "metadata": {},
   "outputs": [],
   "source": [
    "X_train_pca2 = X_train_pca[:, 0:5]\n",
    "X_val_pca2 = X_val_pca[:, 0:5]\n",
    "X_test_pca2 = X_test_pca[:, 0:5]"
   ]
  },
  {
   "cell_type": "code",
   "execution_count": 283,
   "metadata": {},
   "outputs": [
    {
     "data": {
      "text/plain": [
       "GridSearchCV(cv=5, estimator=SVC(),\n",
       "             param_grid={'C': [1, 10, 100, 1000],\n",
       "                         'gamma': [0.001, 0.01, 0.1, 1]})"
      ]
     },
     "execution_count": 283,
     "metadata": {},
     "output_type": "execute_result"
    }
   ],
   "source": [
    "svm_clf_pca = GridSearchCV(estimator, param_grid, cv=5)\n",
    "svm_clf_pca.fit(X_train_pca2, y_train_cat)"
   ]
  },
  {
   "cell_type": "code",
   "execution_count": 284,
   "metadata": {},
   "outputs": [],
   "source": [
    "#Get the best hyper-parameters\n",
    "best_c_pca = svm_clf_pca.best_params_['C']\n",
    "best_gamma_pca = svm_clf_pca.best_params_['gamma']\n",
    "\n",
    "#Evaluate the best model on validation set\n",
    "svm_clf_pca = SVC(kernel='rbf', C=best_c_pca, gamma=best_gamma_pca)\n",
    "svm_clf_pca.fit(X_train_pca2, y_train_cat)\n",
    "\n",
    "y_pred_val_pca = svm_clf_pca.predict(X_val_pca2)"
   ]
  },
  {
   "cell_type": "code",
   "execution_count": 285,
   "metadata": {},
   "outputs": [
    {
     "name": "stdout",
     "output_type": "stream",
     "text": [
      "Confusion Matrix:\n",
      " [[762  50]\n",
      " [ 68 449]]\n",
      "Recall (Sensitivity): 0.8684719535783365\n",
      "Precision: 0.8997995991983968\n",
      "Specificity: 0.9384236453201971\n",
      "Balanced Accuracy: 0.9034477994492668\n",
      "F1 Score: 0.8838582677165354\n"
     ]
    }
   ],
   "source": [
    "#Evaluate the model using confusion matrix and classification metrics\n",
    "conf_mat_pca = confusion_matrix(y_val_cat, y_pred_val_pca)\n",
    "recall_pca = recall_score(y_val_cat, y_pred_val_pca)\n",
    "precision_pca = precision_score(y_val_cat, y_pred_val_pca)\n",
    "specificity_pca = conf_mat_pca[0][0] / (conf_mat_pca[0][0] + conf_mat_pca[0][1])\n",
    "balanced_accuracy_pca = balanced_accuracy_score(y_val_cat, y_pred_val_pca)\n",
    "f1_pca = f1_score(y_val_cat, y_pred_val_pca)\n",
    "\n",
    "print(\"Confusion Matrix:\\n\", conf_mat)\n",
    "print(\"Recall (Sensitivity):\", recall)\n",
    "print(\"Precision:\", precision)\n",
    "print(\"Specificity:\", specificity)\n",
    "print(\"Balanced Accuracy:\", balanced_accuracy)\n",
    "print(\"F1 Score:\", f1)"
   ]
  },
  {
   "cell_type": "markdown",
   "metadata": {},
   "source": [
    "## Q8 [10]"
   ]
  },
  {
   "cell_type": "markdown",
   "metadata": {},
   "source": [
    "- For regression:\n",
    "    - Think of other ways of improving the regression performance and list at least two possibilities.\n",
    "    - You can use any of the datasets we have been using (standardized data, PCA transformed data), or re-create your own set from the original.\n",
    "    - Implement both of the methods you proposed. \n",
    "    - Is the validation performance increasing? For performance comparison you can use any regression performance metric that you deem to be appropriate. \n",
    "    - Optional: Apply different methods, ideas as you see fit and see if the validation performance is improving."
   ]
  },
  {
   "cell_type": "code",
   "execution_count": 286,
   "metadata": {},
   "outputs": [
    {
     "name": "stdout",
     "output_type": "stream",
     "text": [
      "R^2 on training data 0.6639646695110759\n",
      "RMSE on training data 1.2720962773571312\n",
      "R^2 on validation data 0.6464617895027771\n",
      "RMSE on validation data 1.3882566347631466\n"
     ]
    }
   ],
   "source": [
    "from sklearn.linear_model import Ridge\n",
    "from sklearn.metrics import r2_score, mean_squared_error\n",
    "\n",
    "# Train a Ridge regression model\n",
    "ridge = Ridge(alpha=1)\n",
    "ridge.fit(X_train, y_train)\n",
    "\n",
    "# Calculate R^2 and RMSE for training data\n",
    "y_train_pred = ridge.predict(X_train)\n",
    "r2_train = print(\"R^2 on training data\",r2_score(y_train, y_train_pred))\n",
    "rmse_train = print(\"RMSE on training data\",mean_squared_error(y_train, y_train_pred, squared=False))\n",
    "# Calculate R^2 and RMSE for validation data\n",
    "y_val_pred = ridge.predict(X_val)\n",
    "r2_val = print('R^2 on validation data',r2_score(y_val, y_val_pred))\n",
    "rmse_val = print('RMSE on validation data',mean_squared_error(y_val, y_val_pred, squared=False))\n"
   ]
  },
  {
   "cell_type": "code",
   "execution_count": 287,
   "metadata": {},
   "outputs": [
    {
     "name": "stdout",
     "output_type": "stream",
     "text": [
      "R^2 on training data 0.3558470749116234\n",
      "RMSE on training data 1.7612540417830684\n",
      "R^2 on validation data 0.6464617895027771\n",
      "RMSE on validation data 1.3882566347631466\n"
     ]
    }
   ],
   "source": [
    "from sklearn.linear_model import Lasso\n",
    "from sklearn.metrics import r2_score, mean_squared_error\n",
    "\n",
    "# Create a Lasso regression model with alpha = 1.0\n",
    "lasso = Lasso(alpha=1.0)\n",
    "\n",
    "# Train the Lasso model on the training data\n",
    "lasso.fit(X_train, y_train)\n",
    "\n",
    "# Calculate R^2 and RMSE for training data\n",
    "y_train_pred = lasso.predict(X_train)\n",
    "r2_train = print(\"R^2 on training data\",r2_score(y_train, y_train_pred))\n",
    "rmse_train = print(\"RMSE on training data\",mean_squared_error(y_train, y_train_pred, squared=False))\n",
    "# Calculate R^2 and RMSE for validation data\n",
    "y_val_pred = ridge.predict(X_val)\n",
    "r2_val = print('R^2 on validation data',r2_score(y_val, y_val_pred))\n",
    "rmse_val = print('RMSE on validation data',mean_squared_error(y_val, y_val_pred, squared=False))\n",
    "\n"
   ]
  },
  {
   "cell_type": "code",
   "execution_count": 288,
   "metadata": {},
   "outputs": [
    {
     "name": "stdout",
     "output_type": "stream",
     "text": [
      "R^2 on training data 0.425413357250388\n",
      "RMSE on training data 1.6634328508922989\n",
      "R^2 on validation data 0.3993519388910556\n",
      "RMSE on validation data 1.8095126262083623\n"
     ]
    }
   ],
   "source": [
    "from sklearn.linear_model import ElasticNet\n",
    "from sklearn.metrics import r2_score, mean_squared_error\n",
    "\n",
    "# Train an Elastic Net model\n",
    "enet = ElasticNet(alpha=1, l1_ratio=0.5)\n",
    "enet.fit(X_train, y_train)\n",
    "\n",
    "# Calculate R^2 and RMSE for training data\n",
    "y_train_pred = enet.predict(X_train)\n",
    "r2_train = print(\"R^2 on training data\", r2_score(y_train, y_train_pred))\n",
    "rmse_train = print(\"RMSE on training data\", mean_squared_error(y_train, y_train_pred, squared=False))\n",
    "\n",
    "# Calculate R^2 and RMSE for validation data\n",
    "y_val_pred = enet.predict(X_val)\n",
    "r2_val = print('R^2 on validation data', r2_score(y_val, y_val_pred))\n",
    "rmse_val = print('RMSE on validation data', mean_squared_error(y_val, y_val_pred, squared=False))\n"
   ]
  },
  {
   "cell_type": "raw",
   "metadata": {},
   "source": [
    "Linear Regression\n",
    "R^2 score on training data: 0.66\n",
    "R^2 score on validation data: 0.65\n",
    "RMSE on training data: 1.27\n",
    "RMSE on validation data: 1.39\n",
    "\n",
    "Random Forest Regression \n",
    "R^2 score on training data: 0.66\n",
    "R^2 score on validation data: 0.65\n",
    "RMSE on training data: 1.27\n",
    "RMSE on validation data: 1.39\n",
    "\n",
    "Ridge Regression\n",
    "R^2 on training data 0.6639646695110759\n",
    "RMSE on training data 1.2720962773571312\n",
    "R^2 on validation data 0.6464617895027771\n",
    "RMSE on validation data 1.3882566347631466\n",
    "\n",
    "Lasso Regression\n",
    "R^2 on training data 0.3558470749116234\n",
    "RMSE on training data 1.7612540417830684\n",
    "R^2 on validation data 0.6464617895027771\n",
    "RMSE on validation data 1.3882566347631466\n",
    "\n",
    "Elastic net\n",
    "R^2 on training data 0.425413357250388\n",
    "RMSE on training data 1.6634328508922989\n",
    "R^2 on validation data 0.3993519388910556\n",
    "RMSE on validation data 1.8095126262083623"
   ]
  },
  {
   "cell_type": "raw",
   "metadata": {},
   "source": [
    "Linear Regression and Random Forest Regression have the same R^2 and RMSE values for both training and validation data, indicating similar performance.\n",
    "Ridge Regression has slightly better R^2 scores and lower RMSE values than Linear Regression and Random Forest Regression, indicating better performance.\n",
    "Lasso Regression has a significantly lower R^2 score and higher RMSE value on training data than the other models, indicating poorer performance.\n",
    "Elastic Net has a lower R^2 score and higher RMSE value on both training and validation data compared to Ridge Regression, indicating poorer performance.\n",
    "Overall, Ridge Regression appears to be the best model based on the given evaluation metrics. "
   ]
  },
  {
   "cell_type": "markdown",
   "metadata": {},
   "source": [
    "## Q9 [10]"
   ]
  },
  {
   "cell_type": "markdown",
   "metadata": {},
   "source": [
    "- For classification:\n",
    "    - Try at least one classifier other than SVM (RF, GBM, Logistic Regression, etc). \n",
    "    - Think of other ways of improving the regression performance and list at least two possibilities.\n",
    "    - You can use any of the datasets we have been using (standardized data, PCA transformed data), or re-create your own set from the original.\n",
    "    - Implement both of the methods you proposed. \n",
    "    - Is the validation performance increasing? For performance comparison you can use any regression performance metric that you deem to be appropriate. \n",
    "    - Optional: Apply different methods, ideas as you see fit and see if the validation performance is improving."
   ]
  },
  {
   "cell_type": "code",
   "execution_count": 295,
   "metadata": {},
   "outputs": [
    {
     "name": "stdout",
     "output_type": "stream",
     "text": [
      "Accuracy on training data: 0.9490218209179835\n",
      "Accuracy on validation data: 0.8939051918735892\n"
     ]
    }
   ],
   "source": [
    "from sklearn.ensemble import RandomForestClassifier\n",
    "from sklearn.feature_selection import SelectFromModel\n",
    "\n",
    "# Feature selection\n",
    "selector = SelectFromModel(estimator=RandomForestClassifier(random_state=42))\n",
    "selector.fit(X_train, y_train_cat)\n",
    "X_train_selected = selector.transform(X_train)\n",
    "X_val_selected = selector.transform(X_val)\n",
    "\n",
    "# Hyperparameter tuning\n",
    "rfc = RandomForestClassifier(n_estimators=100, random_state=42)\n",
    "params = {\n",
    "    'max_depth': [5, 10, 15],\n",
    "    'min_samples_split': [2, 5, 10]\n",
    "}\n",
    "grid_search = GridSearchCV(estimator=rfc, param_grid=params, cv=5)\n",
    "grid_search.fit(X_train_selected, y_train_cat)  # fit on selected features\n",
    "\n",
    "# Evaluate performance\n",
    "X_train_selected = selector.transform(X_train)  # transform training data to selected features\n",
    "X_val_selected = selector.transform(X_val)  # transform validation data to selected features\n",
    "y_train_pred = grid_search.predict(X_train_selected)\n",
    "y_val_pred = grid_search.predict(X_val_selected)\n",
    "accuracy_train = accuracy_score(y_train_cat, y_train_pred)\n",
    "accuracy_val = accuracy_score(y_val_cat, y_val_pred)\n",
    "print(f\"Accuracy on training data: {accuracy_train}\")\n",
    "print(f\"Accuracy on validation data: {accuracy_val}\")\n"
   ]
  },
  {
   "cell_type": "code",
   "execution_count": 296,
   "metadata": {
    "scrolled": true
   },
   "outputs": [
    {
     "name": "stdout",
     "output_type": "stream",
     "text": [
      "Confusion Matrix:\n",
      " [[762  50]\n",
      " [ 91 426]]\n",
      "Recall (Sensitivity): 0.8239845261121856\n",
      "Precision: 0.8949579831932774\n",
      "Specificity: 0.9384236453201971\n",
      "Balanced Accuracy: 0.8812040857161914\n",
      "F1 Score: 0.8580060422960725\n"
     ]
    }
   ],
   "source": [
    "#Evaluate the model using confusion matrix and classification metrics\n",
    "conf_mat = confusion_matrix(y_val_cat, y_val_pred)\n",
    "recall = recall_score(y_val_cat, y_val_pred)\n",
    "precision = precision_score(y_val_cat, y_val_pred)\n",
    "specificity = conf_mat[0][0] / (conf_mat[0][0] + conf_mat[0][1])\n",
    "balanced_accuracy = balanced_accuracy_score(y_val_cat, y_val_pred)\n",
    "f1 = f1_score(y_val_cat, y_val_pred)\n",
    "\n",
    "print(\"Confusion Matrix:\\n\", conf_mat)\n",
    "print(\"Recall (Sensitivity):\", recall)\n",
    "print(\"Precision:\", precision)\n",
    "print(\"Specificity:\", specificity)\n",
    "print(\"Balanced Accuracy:\", balanced_accuracy)\n",
    "print(\"F1 Score:\", f1)"
   ]
  },
  {
   "cell_type": "raw",
   "metadata": {},
   "source": [
    "#comparing them\n",
    "\n",
    "Using grid search\n",
    "\n",
    "Confusion Matrix:\n",
    " [[762  50]\n",
    " [ 68 449]]\n",
    "Recall (Sensitivity): 0.8684719535783365\n",
    "Precision: 0.8997995991983968\n",
    "Specificity: 0.9384236453201971\n",
    "Balanced Accuracy: 0.9034477994492668\n",
    "F1 Score: 0.8838582677165354\n",
    "\n",
    "\n",
    "PCA transform\n",
    "\n",
    "Confusion Matrix:\n",
    " [[762  50]\n",
    " [ 68 449]]\n",
    "Recall (Sensitivity): 0.8684719535783365\n",
    "Precision: 0.8997995991983968\n",
    "Specificity: 0.9384236453201971\n",
    "Balanced Accuracy: 0.9034477994492668\n",
    "F1 Score: 0.8838582677165354\n",
    "\n",
    "\n",
    "Using Random forest:\n",
    "    \n",
    "Confusion Matrix:\n",
    " [[762  50]\n",
    " [ 91 426]]\n",
    "Recall (Sensitivity): 0.8239845261121856\n",
    "Precision: 0.8949579831932774\n",
    "Specificity: 0.9384236453201971\n",
    "Balanced Accuracy: 0.8812040857161914\n",
    "F1 Score: 0.8580060422960725"
   ]
  },
  {
   "cell_type": "markdown",
   "metadata": {},
   "source": [
    "we can see that using grid search and PCA transform gave the same results for the model's performance on the validation set, with an accuracy of 0.9294. On the other hand, using a random forest classifier without any feature selection or hyperparameter tuning resulted in a slightly lower accuracy of 0.8919. The confusion matrices show that all models made similar numbers of false positives and false negatives, with slightly different numbers of true positives and true negatives."
   ]
  },
  {
   "cell_type": "markdown",
   "metadata": {},
   "source": [
    "# Q10 [10]"
   ]
  },
  {
   "cell_type": "markdown",
   "metadata": {},
   "source": [
    "- Choose the best 2 regressors among the trained regressions models:\n",
    "- Create a table summarizing results on the **test** set for regression (with target variables in `y_test`):\n",
    "    - Show the R^2 and RMSE performance metrics on test data for each model.\n",
    "- Which model is best for regression? Is this in line with your analysis (the validation performance of the models) or is this not expected?\n",
    "\n",
    "\n",
    "\n",
    "- Choose the best 2 classifiers among the trained classification models:\n",
    "- Create a table summarizing results on the **test** set for classification (with target variables in `y_test_cat`):\n",
    "    - Show the classification performance metrics (accuracy, recall, precision, f1-score, etc.) on test data for each model. \n",
    "- Which model is best for classification? Is this in line with your analysis (the validation performance of the models) or is this not expected? \n",
    "\n",
    "\n",
    "\n",
    "> Note that the same transformation used during training should be applied on the testing set. (If you applied PCA on training data for the selected model, you need to apply PCA on the testing set as well.) \n",
    "\n"
   ]
  },
  {
   "cell_type": "markdown",
   "metadata": {},
   "source": [
    "# The best regression models are ridge regression and Random forest ."
   ]
  },
  {
   "cell_type": "code",
   "execution_count": 310,
   "metadata": {},
   "outputs": [
    {
     "name": "stdout",
     "output_type": "stream",
     "text": [
      "R^2 score on test set: 0.4934\n",
      "RMSE on test set: 1.6611\n"
     ]
    }
   ],
   "source": [
    "from sklearn.linear_model import Ridge\n",
    "from sklearn.metrics import r2_score, mean_squared_error\n",
    "\n",
    "# Train a Ridge regression model\n",
    "ridge = Ridge(alpha=1)\n",
    "ridge.fit(X_train, y_train)\n",
    "\n",
    "# Make predictions on the test set\n",
    "y_pred_test = ridge.predict(X_test)\n",
    "\n",
    "# Calculate R^2 scores\n",
    "r2_test = r2_score(y_test, y_pred_test)\n",
    "\n",
    "# Calculate RMSE scores\n",
    "rmse_test = np.sqrt(mean_squared_error(y_test, y_pred_test))\n",
    "\n",
    "# Print scores\n",
    "print(f\"R^2 score on test set: {r2_test:.4f}\")\n",
    "print(f\"RMSE on test set: {rmse_test:.4f}\")\n",
    "\n",
    "\n"
   ]
  },
  {
   "cell_type": "markdown",
   "metadata": {},
   "source": [
    "# Random forest"
   ]
  },
  {
   "cell_type": "code",
   "execution_count": 311,
   "metadata": {},
   "outputs": [
    {
     "name": "stdout",
     "output_type": "stream",
     "text": [
      "R^2 score on test set: 0.5333\n",
      "RMSE on test set: 1.5944\n"
     ]
    }
   ],
   "source": [
    "estimator = RandomForestRegressor(n_estimators=100, random_state=RANDOM_STATE)\n",
    "estimator.fit(X_train, y_train)\n",
    "\n",
    "# Make predictions on the test set\n",
    "y_pred_test = estimator.predict(X_test)\n",
    "\n",
    "# Calculate R^2 scores\n",
    "r2_test = r2_score(y_test, y_pred_test)\n",
    "\n",
    "# Calculate RMSE scores\n",
    "rmse_test = np.sqrt(mean_squared_error(y_test, y_pred_test))\n",
    "\n",
    "# Print scores\n",
    "print(f\"R^2 score on test set: {r2_test:.4f}\")\n",
    "print(f\"RMSE on test set: {rmse_test:.4f}\")\n"
   ]
  },
  {
   "cell_type": "raw",
   "metadata": {},
   "source": [
    "Ridge Regression\n",
    "\n",
    "R^2 score on test set: 0.4934\n",
    "RMSE on test set: 1.6611\n",
    "    \n",
    "Random forest\n",
    "R^2 score on test set: 0.5333\n",
    "RMSE on test set: 1.5944\n",
    "\n"
   ]
  },
  {
   "cell_type": "markdown",
   "metadata": {},
   "source": [
    "Based on the R^2 score and RMSE on the test set, the Random Forest model performs slightly better than the Ridge Regression model. The Random Forest model has a higher R^2 score and a slightly lower RMSE, indicating better predictive performance on the test set.The Random Forest model had higher validation performance and the better performance on the test set suggests that it is a more robust and reliable model for this regression problem."
   ]
  },
  {
   "cell_type": "markdown",
   "metadata": {},
   "source": [
    "# we can see that using grid search and PCA transform gave the same results for the model's performance, so I have use grid search for target variable y_test_cat."
   ]
  },
  {
   "cell_type": "code",
   "execution_count": 363,
   "metadata": {},
   "outputs": [
    {
     "name": "stdout",
     "output_type": "stream",
     "text": [
      "Confusion Matrix:\n",
      " [[439  28]\n",
      " [ 33 239]]\n",
      "Recall (Sensitivity): 0.8786764705882353\n",
      "Precision: 0.8951310861423221\n",
      "Specificity: 0.9400428265524625\n",
      "Balanced Accuracy: 0.9093596485703489\n",
      "F1 Score: 0.8868274582560297\n"
     ]
    }
   ],
   "source": [
    "from sklearn.model_selection import GridSearchCV\n",
    "from sklearn.metrics import confusion_matrix, recall_score, precision_score, balanced_accuracy_score, f1_score\n",
    "\n",
    "param_grid = {'C': [1, 10, 100, 1000], 'gamma': [0.001, 0.01, 0.1, 1]}\n",
    "svm_clf = GridSearchCV(estimator, param_grid, cv=5)\n",
    "svm_clf.fit(X_train, y_train_cat)\n",
    "\n",
    "# Get the best hyper-parameters\n",
    "best_c = svm_clf.best_params_['C']\n",
    "best_gamma = svm_clf.best_params_['gamma']\n",
    "\n",
    "# Fit the SVM model on the best hyper-parameters\n",
    "svm_clf = SVC(kernel='rbf', C=best_c, gamma=best_gamma)\n",
    "svm_clf.fit(X_train, y_train_cat)\n",
    "\n",
    "# Make predictions on test set\n",
    "y_pred_test = svm_clf.predict(X_test)\n",
    "\n",
    "# Evaluate the model using confusion matrix and classification metrics\n",
    "conf_mat = confusion_matrix(y_test_cat, y_pred_test)\n",
    "recall = recall_score(y_test_cat, y_pred_test)\n",
    "precision = precision_score(y_test_cat, y_pred_test)\n",
    "specificity = conf_mat[0][0] / (conf_mat[0][0] + conf_mat[0][1])\n",
    "balanced_accuracy = balanced_accuracy_score(y_test_cat, y_pred_test)\n",
    "f1 = f1_score(y_test_cat, y_pred_test)\n",
    "\n",
    "print(\"Confusion Matrix:\\n\", conf_mat)\n",
    "print(\"Recall (Sensitivity):\", recall)\n",
    "print(\"Precision:\", precision)\n",
    "print(\"Specificity:\", specificity)\n",
    "print(\"Balanced Accuracy:\", balanced_accuracy)\n",
    "print(\"F1 Score:\", f1)\n"
   ]
  },
  {
   "cell_type": "markdown",
   "metadata": {},
   "source": [
    "These metrics indicate that the model performs reasonably well in classifying the test data."
   ]
  },
  {
   "cell_type": "markdown",
   "metadata": {},
   "source": [
    "# Thank you\n",
    "Ilyas Ustun  \n",
    "twitter: \\_ilyas\\_ustun\\_"
   ]
  },
  {
   "cell_type": "code",
   "execution_count": null,
   "metadata": {},
   "outputs": [],
   "source": []
  },
  {
   "cell_type": "code",
   "execution_count": null,
   "metadata": {},
   "outputs": [],
   "source": []
  }
 ],
 "metadata": {
  "kernelspec": {
   "display_name": "Python 3 (ipykernel)",
   "language": "python",
   "name": "python3"
  },
  "language_info": {
   "codemirror_mode": {
    "name": "ipython",
    "version": 3
   },
   "file_extension": ".py",
   "mimetype": "text/x-python",
   "name": "python",
   "nbconvert_exporter": "python",
   "pygments_lexer": "ipython3",
   "version": "3.9.13"
  },
  "toc": {
   "base_numbering": 1,
   "nav_menu": {},
   "number_sections": false,
   "sideBar": false,
   "skip_h1_title": false,
   "title_cell": "Table of Contents",
   "title_sidebar": "Contents",
   "toc_cell": false,
   "toc_position": {},
   "toc_section_display": false,
   "toc_window_display": false
  }
 },
 "nbformat": 4,
 "nbformat_minor": 4
}
